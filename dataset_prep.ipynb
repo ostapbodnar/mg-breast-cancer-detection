{
 "cells": [
  {
   "cell_type": "code",
   "execution_count": 1,
   "metadata": {
    "collapsed": true,
    "ExecuteTime": {
     "end_time": "2023-10-14T14:27:13.221464Z",
     "start_time": "2023-10-14T14:27:01.541681Z"
    }
   },
   "outputs": [
    {
     "data": {
      "text/plain": "       site_id  patient_id    image_id laterality view   age  cancer  biopsy  \\\n0            2       10006   462822612          L   CC  61.0       0       0   \n1            2       10006  1459541791          L  MLO  61.0       0       0   \n2            2       10006  1864590858          R  MLO  61.0       0       0   \n3            2       10006  1874946579          R   CC  61.0       0       0   \n4            2       10011   220375232          L   CC  55.0       0       0   \n...        ...         ...         ...        ...  ...   ...     ...     ...   \n54701        1        9973  1729524723          R  MLO  43.0       0       0   \n54702        1        9989    63473691          L  MLO  60.0       0       0   \n54703        1        9989  1078943060          L   CC  60.0       0       0   \n54704        1        9989   398038886          R  MLO  60.0       0       0   \n54705        1        9989   439796429          R   CC  60.0       0       0   \n\n       invasive  BIRADS  implant density  machine_id  difficult_negative_case  \n0             0     NaN        0     NaN          29                    False  \n1             0     NaN        0     NaN          29                    False  \n2             0     NaN        0     NaN          29                    False  \n3             0     NaN        0     NaN          29                    False  \n4             0     0.0        0     NaN          21                     True  \n...         ...     ...      ...     ...         ...                      ...  \n54701         0     1.0        0       C          49                    False  \n54702         0     NaN        0       C         216                    False  \n54703         0     NaN        0       C         216                    False  \n54704         0     0.0        0       C         216                     True  \n54705         0     0.0        0       C         216                     True  \n\n[54706 rows x 14 columns]",
      "text/html": "<div>\n<style scoped>\n    .dataframe tbody tr th:only-of-type {\n        vertical-align: middle;\n    }\n\n    .dataframe tbody tr th {\n        vertical-align: top;\n    }\n\n    .dataframe thead th {\n        text-align: right;\n    }\n</style>\n<table border=\"1\" class=\"dataframe\">\n  <thead>\n    <tr style=\"text-align: right;\">\n      <th></th>\n      <th>site_id</th>\n      <th>patient_id</th>\n      <th>image_id</th>\n      <th>laterality</th>\n      <th>view</th>\n      <th>age</th>\n      <th>cancer</th>\n      <th>biopsy</th>\n      <th>invasive</th>\n      <th>BIRADS</th>\n      <th>implant</th>\n      <th>density</th>\n      <th>machine_id</th>\n      <th>difficult_negative_case</th>\n    </tr>\n  </thead>\n  <tbody>\n    <tr>\n      <th>0</th>\n      <td>2</td>\n      <td>10006</td>\n      <td>462822612</td>\n      <td>L</td>\n      <td>CC</td>\n      <td>61.0</td>\n      <td>0</td>\n      <td>0</td>\n      <td>0</td>\n      <td>NaN</td>\n      <td>0</td>\n      <td>NaN</td>\n      <td>29</td>\n      <td>False</td>\n    </tr>\n    <tr>\n      <th>1</th>\n      <td>2</td>\n      <td>10006</td>\n      <td>1459541791</td>\n      <td>L</td>\n      <td>MLO</td>\n      <td>61.0</td>\n      <td>0</td>\n      <td>0</td>\n      <td>0</td>\n      <td>NaN</td>\n      <td>0</td>\n      <td>NaN</td>\n      <td>29</td>\n      <td>False</td>\n    </tr>\n    <tr>\n      <th>2</th>\n      <td>2</td>\n      <td>10006</td>\n      <td>1864590858</td>\n      <td>R</td>\n      <td>MLO</td>\n      <td>61.0</td>\n      <td>0</td>\n      <td>0</td>\n      <td>0</td>\n      <td>NaN</td>\n      <td>0</td>\n      <td>NaN</td>\n      <td>29</td>\n      <td>False</td>\n    </tr>\n    <tr>\n      <th>3</th>\n      <td>2</td>\n      <td>10006</td>\n      <td>1874946579</td>\n      <td>R</td>\n      <td>CC</td>\n      <td>61.0</td>\n      <td>0</td>\n      <td>0</td>\n      <td>0</td>\n      <td>NaN</td>\n      <td>0</td>\n      <td>NaN</td>\n      <td>29</td>\n      <td>False</td>\n    </tr>\n    <tr>\n      <th>4</th>\n      <td>2</td>\n      <td>10011</td>\n      <td>220375232</td>\n      <td>L</td>\n      <td>CC</td>\n      <td>55.0</td>\n      <td>0</td>\n      <td>0</td>\n      <td>0</td>\n      <td>0.0</td>\n      <td>0</td>\n      <td>NaN</td>\n      <td>21</td>\n      <td>True</td>\n    </tr>\n    <tr>\n      <th>...</th>\n      <td>...</td>\n      <td>...</td>\n      <td>...</td>\n      <td>...</td>\n      <td>...</td>\n      <td>...</td>\n      <td>...</td>\n      <td>...</td>\n      <td>...</td>\n      <td>...</td>\n      <td>...</td>\n      <td>...</td>\n      <td>...</td>\n      <td>...</td>\n    </tr>\n    <tr>\n      <th>54701</th>\n      <td>1</td>\n      <td>9973</td>\n      <td>1729524723</td>\n      <td>R</td>\n      <td>MLO</td>\n      <td>43.0</td>\n      <td>0</td>\n      <td>0</td>\n      <td>0</td>\n      <td>1.0</td>\n      <td>0</td>\n      <td>C</td>\n      <td>49</td>\n      <td>False</td>\n    </tr>\n    <tr>\n      <th>54702</th>\n      <td>1</td>\n      <td>9989</td>\n      <td>63473691</td>\n      <td>L</td>\n      <td>MLO</td>\n      <td>60.0</td>\n      <td>0</td>\n      <td>0</td>\n      <td>0</td>\n      <td>NaN</td>\n      <td>0</td>\n      <td>C</td>\n      <td>216</td>\n      <td>False</td>\n    </tr>\n    <tr>\n      <th>54703</th>\n      <td>1</td>\n      <td>9989</td>\n      <td>1078943060</td>\n      <td>L</td>\n      <td>CC</td>\n      <td>60.0</td>\n      <td>0</td>\n      <td>0</td>\n      <td>0</td>\n      <td>NaN</td>\n      <td>0</td>\n      <td>C</td>\n      <td>216</td>\n      <td>False</td>\n    </tr>\n    <tr>\n      <th>54704</th>\n      <td>1</td>\n      <td>9989</td>\n      <td>398038886</td>\n      <td>R</td>\n      <td>MLO</td>\n      <td>60.0</td>\n      <td>0</td>\n      <td>0</td>\n      <td>0</td>\n      <td>0.0</td>\n      <td>0</td>\n      <td>C</td>\n      <td>216</td>\n      <td>True</td>\n    </tr>\n    <tr>\n      <th>54705</th>\n      <td>1</td>\n      <td>9989</td>\n      <td>439796429</td>\n      <td>R</td>\n      <td>CC</td>\n      <td>60.0</td>\n      <td>0</td>\n      <td>0</td>\n      <td>0</td>\n      <td>0.0</td>\n      <td>0</td>\n      <td>C</td>\n      <td>216</td>\n      <td>True</td>\n    </tr>\n  </tbody>\n</table>\n<p>54706 rows × 14 columns</p>\n</div>"
     },
     "execution_count": 1,
     "metadata": {},
     "output_type": "execute_result"
    }
   ],
   "source": [
    "import pandas as pd\n",
    "\n",
    "df = pd.read_csv('train.csv')\n",
    "df"
   ]
  },
  {
   "cell_type": "code",
   "execution_count": 6,
   "outputs": [
    {
     "data": {
      "text/plain": "cancer\n0    53548\n1     1158\nName: count, dtype: int64"
     },
     "execution_count": 6,
     "metadata": {},
     "output_type": "execute_result"
    }
   ],
   "source": [
    "df.cancer.value_counts()"
   ],
   "metadata": {
    "collapsed": false,
    "ExecuteTime": {
     "end_time": "2023-10-14T14:28:05.987483Z",
     "start_time": "2023-10-14T14:28:05.981435Z"
    }
   }
  },
  {
   "cell_type": "code",
   "execution_count": 14,
   "outputs": [
    {
     "data": {
      "text/plain": "       site_id  patient_id    image_id laterality view   age  cancer  biopsy  \\\n87           1       10130   388811999          L  MLO  71.0       1       1   \n88           1       10130   613462606          L   CC  71.0       1       1   \n89           1       10130  1360338805          L   CC  71.0       1       1   \n90           1       10130  1672636630          L  MLO  71.0       1       1   \n190          1       10226   461614796          L  MLO  71.0       1       1   \n...        ...         ...         ...        ...  ...   ...     ...     ...   \n11383        1       22218  1304914689          L   CC  59.0       0       0   \n32536        1        4491   744581314          R   CC  54.0       0       0   \n25360        2       37108    82469503          L  MLO  63.0       0       0   \n6747         1       17316   607601080          R  MLO  45.0       0       0   \n28515        1       40437  1962699765          L  MLO  56.0       0       0   \n\n       invasive  BIRADS  implant density  machine_id  difficult_negative_case  \n87            1     0.0        0       B          49                    False  \n88            1     0.0        0       B          49                    False  \n89            1     0.0        0       B          49                    False  \n90            1     0.0        0       B          49                    False  \n190           1     0.0        0       C          49                    False  \n...         ...     ...      ...     ...         ...                      ...  \n11383         0     1.0        0       B          49                    False  \n32536         0     1.0        0       C          49                    False  \n25360         0     NaN        0     NaN          48                    False  \n6747          0     1.0        0       A          49                    False  \n28515         0     1.0        0       C          49                    False  \n\n[2316 rows x 14 columns]",
      "text/html": "<div>\n<style scoped>\n    .dataframe tbody tr th:only-of-type {\n        vertical-align: middle;\n    }\n\n    .dataframe tbody tr th {\n        vertical-align: top;\n    }\n\n    .dataframe thead th {\n        text-align: right;\n    }\n</style>\n<table border=\"1\" class=\"dataframe\">\n  <thead>\n    <tr style=\"text-align: right;\">\n      <th></th>\n      <th>site_id</th>\n      <th>patient_id</th>\n      <th>image_id</th>\n      <th>laterality</th>\n      <th>view</th>\n      <th>age</th>\n      <th>cancer</th>\n      <th>biopsy</th>\n      <th>invasive</th>\n      <th>BIRADS</th>\n      <th>implant</th>\n      <th>density</th>\n      <th>machine_id</th>\n      <th>difficult_negative_case</th>\n    </tr>\n  </thead>\n  <tbody>\n    <tr>\n      <th>87</th>\n      <td>1</td>\n      <td>10130</td>\n      <td>388811999</td>\n      <td>L</td>\n      <td>MLO</td>\n      <td>71.0</td>\n      <td>1</td>\n      <td>1</td>\n      <td>1</td>\n      <td>0.0</td>\n      <td>0</td>\n      <td>B</td>\n      <td>49</td>\n      <td>False</td>\n    </tr>\n    <tr>\n      <th>88</th>\n      <td>1</td>\n      <td>10130</td>\n      <td>613462606</td>\n      <td>L</td>\n      <td>CC</td>\n      <td>71.0</td>\n      <td>1</td>\n      <td>1</td>\n      <td>1</td>\n      <td>0.0</td>\n      <td>0</td>\n      <td>B</td>\n      <td>49</td>\n      <td>False</td>\n    </tr>\n    <tr>\n      <th>89</th>\n      <td>1</td>\n      <td>10130</td>\n      <td>1360338805</td>\n      <td>L</td>\n      <td>CC</td>\n      <td>71.0</td>\n      <td>1</td>\n      <td>1</td>\n      <td>1</td>\n      <td>0.0</td>\n      <td>0</td>\n      <td>B</td>\n      <td>49</td>\n      <td>False</td>\n    </tr>\n    <tr>\n      <th>90</th>\n      <td>1</td>\n      <td>10130</td>\n      <td>1672636630</td>\n      <td>L</td>\n      <td>MLO</td>\n      <td>71.0</td>\n      <td>1</td>\n      <td>1</td>\n      <td>1</td>\n      <td>0.0</td>\n      <td>0</td>\n      <td>B</td>\n      <td>49</td>\n      <td>False</td>\n    </tr>\n    <tr>\n      <th>190</th>\n      <td>1</td>\n      <td>10226</td>\n      <td>461614796</td>\n      <td>L</td>\n      <td>MLO</td>\n      <td>71.0</td>\n      <td>1</td>\n      <td>1</td>\n      <td>1</td>\n      <td>0.0</td>\n      <td>0</td>\n      <td>C</td>\n      <td>49</td>\n      <td>False</td>\n    </tr>\n    <tr>\n      <th>...</th>\n      <td>...</td>\n      <td>...</td>\n      <td>...</td>\n      <td>...</td>\n      <td>...</td>\n      <td>...</td>\n      <td>...</td>\n      <td>...</td>\n      <td>...</td>\n      <td>...</td>\n      <td>...</td>\n      <td>...</td>\n      <td>...</td>\n      <td>...</td>\n    </tr>\n    <tr>\n      <th>11383</th>\n      <td>1</td>\n      <td>22218</td>\n      <td>1304914689</td>\n      <td>L</td>\n      <td>CC</td>\n      <td>59.0</td>\n      <td>0</td>\n      <td>0</td>\n      <td>0</td>\n      <td>1.0</td>\n      <td>0</td>\n      <td>B</td>\n      <td>49</td>\n      <td>False</td>\n    </tr>\n    <tr>\n      <th>32536</th>\n      <td>1</td>\n      <td>4491</td>\n      <td>744581314</td>\n      <td>R</td>\n      <td>CC</td>\n      <td>54.0</td>\n      <td>0</td>\n      <td>0</td>\n      <td>0</td>\n      <td>1.0</td>\n      <td>0</td>\n      <td>C</td>\n      <td>49</td>\n      <td>False</td>\n    </tr>\n    <tr>\n      <th>25360</th>\n      <td>2</td>\n      <td>37108</td>\n      <td>82469503</td>\n      <td>L</td>\n      <td>MLO</td>\n      <td>63.0</td>\n      <td>0</td>\n      <td>0</td>\n      <td>0</td>\n      <td>NaN</td>\n      <td>0</td>\n      <td>NaN</td>\n      <td>48</td>\n      <td>False</td>\n    </tr>\n    <tr>\n      <th>6747</th>\n      <td>1</td>\n      <td>17316</td>\n      <td>607601080</td>\n      <td>R</td>\n      <td>MLO</td>\n      <td>45.0</td>\n      <td>0</td>\n      <td>0</td>\n      <td>0</td>\n      <td>1.0</td>\n      <td>0</td>\n      <td>A</td>\n      <td>49</td>\n      <td>False</td>\n    </tr>\n    <tr>\n      <th>28515</th>\n      <td>1</td>\n      <td>40437</td>\n      <td>1962699765</td>\n      <td>L</td>\n      <td>MLO</td>\n      <td>56.0</td>\n      <td>0</td>\n      <td>0</td>\n      <td>0</td>\n      <td>1.0</td>\n      <td>0</td>\n      <td>C</td>\n      <td>49</td>\n      <td>False</td>\n    </tr>\n  </tbody>\n</table>\n<p>2316 rows × 14 columns</p>\n</div>"
     },
     "execution_count": 14,
     "metadata": {},
     "output_type": "execute_result"
    }
   ],
   "source": [
    "new_df = df[df.cancer == 1]\n",
    "new_df = pd.concat((new_df, df[df.cancer == 0].sample(new_df.shape[0])))\n",
    "new_df"
   ],
   "metadata": {
    "collapsed": false,
    "ExecuteTime": {
     "end_time": "2023-10-14T14:30:05.489375Z",
     "start_time": "2023-10-14T14:30:05.449784Z"
    }
   }
  },
  {
   "cell_type": "code",
   "execution_count": 31,
   "outputs": [
    {
     "data": {
      "text/plain": "       site_id  patient_id    image_id laterality view   age  cancer  biopsy  \\\n12344        1        2317  1935829544          L  MLO  48.0       0       0   \n42762        1       56100   105423190          L  MLO  57.0       0       1   \n11149        1       21957  1415477144          R   CC  79.0       1       1   \n18871        1       29919  1361547019          R   CC  58.0       1       1   \n50843        2       64821   261440807          R   CC  65.0       1       1   \n...        ...         ...         ...        ...  ...   ...     ...     ...   \n21256        1       32565   114723726          R  MLO  43.0       0       0   \n34982        2       47541  1588747447          R   CC  41.0       0       0   \n19781        2       30972   691948060          R  MLO  71.0       0       0   \n15286        2       26259   472064471          L   CC  47.0       0       0   \n17245        2       28262  1202406526          R  MLO  67.0       0       0   \n\n       invasive  BIRADS  implant density  machine_id  difficult_negative_case  \n12344         0     NaN        0       B          49                    False  \n42762         0     0.0        0       B          49                     True  \n11149         0     0.0        0       B          93                    False  \n18871         1     0.0        0       B          49                    False  \n50843         1     NaN        0     NaN          48                    False  \n...         ...     ...      ...     ...         ...                      ...  \n21256         0     0.0        0       B          49                     True  \n34982         0     0.0        0     NaN          29                     True  \n19781         0     NaN        0     NaN          29                    False  \n15286         0     0.0        0     NaN          48                     True  \n17245         0     NaN        0     NaN          29                    False  \n\n[2316 rows x 14 columns]",
      "text/html": "<div>\n<style scoped>\n    .dataframe tbody tr th:only-of-type {\n        vertical-align: middle;\n    }\n\n    .dataframe tbody tr th {\n        vertical-align: top;\n    }\n\n    .dataframe thead th {\n        text-align: right;\n    }\n</style>\n<table border=\"1\" class=\"dataframe\">\n  <thead>\n    <tr style=\"text-align: right;\">\n      <th></th>\n      <th>site_id</th>\n      <th>patient_id</th>\n      <th>image_id</th>\n      <th>laterality</th>\n      <th>view</th>\n      <th>age</th>\n      <th>cancer</th>\n      <th>biopsy</th>\n      <th>invasive</th>\n      <th>BIRADS</th>\n      <th>implant</th>\n      <th>density</th>\n      <th>machine_id</th>\n      <th>difficult_negative_case</th>\n    </tr>\n  </thead>\n  <tbody>\n    <tr>\n      <th>12344</th>\n      <td>1</td>\n      <td>2317</td>\n      <td>1935829544</td>\n      <td>L</td>\n      <td>MLO</td>\n      <td>48.0</td>\n      <td>0</td>\n      <td>0</td>\n      <td>0</td>\n      <td>NaN</td>\n      <td>0</td>\n      <td>B</td>\n      <td>49</td>\n      <td>False</td>\n    </tr>\n    <tr>\n      <th>42762</th>\n      <td>1</td>\n      <td>56100</td>\n      <td>105423190</td>\n      <td>L</td>\n      <td>MLO</td>\n      <td>57.0</td>\n      <td>0</td>\n      <td>1</td>\n      <td>0</td>\n      <td>0.0</td>\n      <td>0</td>\n      <td>B</td>\n      <td>49</td>\n      <td>True</td>\n    </tr>\n    <tr>\n      <th>11149</th>\n      <td>1</td>\n      <td>21957</td>\n      <td>1415477144</td>\n      <td>R</td>\n      <td>CC</td>\n      <td>79.0</td>\n      <td>1</td>\n      <td>1</td>\n      <td>0</td>\n      <td>0.0</td>\n      <td>0</td>\n      <td>B</td>\n      <td>93</td>\n      <td>False</td>\n    </tr>\n    <tr>\n      <th>18871</th>\n      <td>1</td>\n      <td>29919</td>\n      <td>1361547019</td>\n      <td>R</td>\n      <td>CC</td>\n      <td>58.0</td>\n      <td>1</td>\n      <td>1</td>\n      <td>1</td>\n      <td>0.0</td>\n      <td>0</td>\n      <td>B</td>\n      <td>49</td>\n      <td>False</td>\n    </tr>\n    <tr>\n      <th>50843</th>\n      <td>2</td>\n      <td>64821</td>\n      <td>261440807</td>\n      <td>R</td>\n      <td>CC</td>\n      <td>65.0</td>\n      <td>1</td>\n      <td>1</td>\n      <td>1</td>\n      <td>NaN</td>\n      <td>0</td>\n      <td>NaN</td>\n      <td>48</td>\n      <td>False</td>\n    </tr>\n    <tr>\n      <th>...</th>\n      <td>...</td>\n      <td>...</td>\n      <td>...</td>\n      <td>...</td>\n      <td>...</td>\n      <td>...</td>\n      <td>...</td>\n      <td>...</td>\n      <td>...</td>\n      <td>...</td>\n      <td>...</td>\n      <td>...</td>\n      <td>...</td>\n      <td>...</td>\n    </tr>\n    <tr>\n      <th>21256</th>\n      <td>1</td>\n      <td>32565</td>\n      <td>114723726</td>\n      <td>R</td>\n      <td>MLO</td>\n      <td>43.0</td>\n      <td>0</td>\n      <td>0</td>\n      <td>0</td>\n      <td>0.0</td>\n      <td>0</td>\n      <td>B</td>\n      <td>49</td>\n      <td>True</td>\n    </tr>\n    <tr>\n      <th>34982</th>\n      <td>2</td>\n      <td>47541</td>\n      <td>1588747447</td>\n      <td>R</td>\n      <td>CC</td>\n      <td>41.0</td>\n      <td>0</td>\n      <td>0</td>\n      <td>0</td>\n      <td>0.0</td>\n      <td>0</td>\n      <td>NaN</td>\n      <td>29</td>\n      <td>True</td>\n    </tr>\n    <tr>\n      <th>19781</th>\n      <td>2</td>\n      <td>30972</td>\n      <td>691948060</td>\n      <td>R</td>\n      <td>MLO</td>\n      <td>71.0</td>\n      <td>0</td>\n      <td>0</td>\n      <td>0</td>\n      <td>NaN</td>\n      <td>0</td>\n      <td>NaN</td>\n      <td>29</td>\n      <td>False</td>\n    </tr>\n    <tr>\n      <th>15286</th>\n      <td>2</td>\n      <td>26259</td>\n      <td>472064471</td>\n      <td>L</td>\n      <td>CC</td>\n      <td>47.0</td>\n      <td>0</td>\n      <td>0</td>\n      <td>0</td>\n      <td>0.0</td>\n      <td>0</td>\n      <td>NaN</td>\n      <td>48</td>\n      <td>True</td>\n    </tr>\n    <tr>\n      <th>17245</th>\n      <td>2</td>\n      <td>28262</td>\n      <td>1202406526</td>\n      <td>R</td>\n      <td>MLO</td>\n      <td>67.0</td>\n      <td>0</td>\n      <td>0</td>\n      <td>0</td>\n      <td>NaN</td>\n      <td>0</td>\n      <td>NaN</td>\n      <td>29</td>\n      <td>False</td>\n    </tr>\n  </tbody>\n</table>\n<p>2316 rows × 14 columns</p>\n</div>"
     },
     "execution_count": 31,
     "metadata": {},
     "output_type": "execute_result"
    }
   ],
   "source": [
    "new_df.sample(len(new_df))"
   ],
   "metadata": {
    "collapsed": false,
    "ExecuteTime": {
     "end_time": "2023-10-14T15:08:28.637375Z",
     "start_time": "2023-10-14T15:08:28.618776Z"
    }
   }
  },
  {
   "cell_type": "code",
   "execution_count": 32,
   "outputs": [],
   "source": [
    "new_df.sample(len(new_df)).to_csv(\"balanced_train.csv\")"
   ],
   "metadata": {
    "collapsed": false,
    "ExecuteTime": {
     "end_time": "2023-10-14T15:08:43.399852Z",
     "start_time": "2023-10-14T15:08:43.377845Z"
    }
   }
  },
  {
   "cell_type": "code",
   "execution_count": 33,
   "outputs": [],
   "source": [
    "files = new_df[['patient_id', 'image_id']]"
   ],
   "metadata": {
    "collapsed": false,
    "ExecuteTime": {
     "end_time": "2023-10-14T15:08:46.858998Z",
     "start_time": "2023-10-14T15:08:46.855483Z"
    }
   }
  },
  {
   "cell_type": "code",
   "execution_count": 34,
   "outputs": [],
   "source": [
    "files.to_csv(\"file_names.csv\")"
   ],
   "metadata": {
    "collapsed": false,
    "ExecuteTime": {
     "end_time": "2023-10-14T15:08:47.166151Z",
     "start_time": "2023-10-14T15:08:47.155907Z"
    }
   }
  },
  {
   "cell_type": "code",
   "execution_count": null,
   "outputs": [],
   "source": [],
   "metadata": {
    "collapsed": false
   }
  }
 ],
 "metadata": {
  "kernelspec": {
   "name": "cda",
   "language": "python",
   "display_name": "cda"
  },
  "language_info": {
   "codemirror_mode": {
    "name": "ipython",
    "version": 2
   },
   "file_extension": ".py",
   "mimetype": "text/x-python",
   "name": "python",
   "nbconvert_exporter": "python",
   "pygments_lexer": "ipython2",
   "version": "2.7.6"
  }
 },
 "nbformat": 4,
 "nbformat_minor": 0
}
